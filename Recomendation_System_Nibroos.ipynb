{
  "nbformat": 4,
  "nbformat_minor": 0,
  "metadata": {
    "colab": {
      "provenance": [],
      "authorship_tag": "ABX9TyMDbvMw8mQZ/5jxOURxYanK",
      "include_colab_link": true
    },
    "kernelspec": {
      "name": "python3",
      "display_name": "Python 3"
    },
    "language_info": {
      "name": "python"
    }
  },
  "cells": [
    {
      "cell_type": "markdown",
      "metadata": {
        "id": "view-in-github",
        "colab_type": "text"
      },
      "source": [
        "<a href=\"https://colab.research.google.com/github/NibroosAbrar/filmrecomendation/blob/main/Recomendation_System_Nibroos.ipynb\" target=\"_parent\"><img src=\"https://colab.research.google.com/assets/colab-badge.svg\" alt=\"Open In Colab\"/></a>"
      ]
    },
    {
      "cell_type": "code",
      "source": [
        "!pip install scikit-surprise"
      ],
      "metadata": {
        "colab": {
          "base_uri": "https://localhost:8080/"
        },
        "id": "Hb0we79h5rjl",
        "outputId": "05cabd7b-e57f-4492-dbf5-b7c66cdcf0d9"
      },
      "execution_count": 55,
      "outputs": [
        {
          "output_type": "stream",
          "name": "stdout",
          "text": [
            "Requirement already satisfied: scikit-surprise in /usr/local/lib/python3.11/dist-packages (1.1.4)\n",
            "Requirement already satisfied: joblib>=1.2.0 in /usr/local/lib/python3.11/dist-packages (from scikit-surprise) (1.4.2)\n",
            "Requirement already satisfied: numpy>=1.19.5 in /usr/local/lib/python3.11/dist-packages (from scikit-surprise) (2.0.2)\n",
            "Requirement already satisfied: scipy>=1.6.0 in /usr/local/lib/python3.11/dist-packages (from scikit-surprise) (1.14.1)\n"
          ]
        }
      ]
    },
    {
      "cell_type": "markdown",
      "source": [
        "# Import Package dan Library\n",
        "* Mengimpor library yang dibutuhkan untuk analisis data dan machine learning.\n",
        "* Pandas dan NumPy untuk manipulasi data, Scikit-learn untuk model machine learning, Matplotlib dan Seaborn untuk visualisasi data."
      ],
      "metadata": {
        "id": "5eOsEGT1WBmg"
      }
    },
    {
      "cell_type": "code",
      "source": [
        "import numpy as np\n",
        "import matplotlib.pyplot as plt\n",
        "import seaborn as sns\n",
        "import pandas as pd\n",
        "from sklearn.preprocessing import OneHotEncoder, StandardScaler\n",
        "from sklearn.feature_extraction.text import TfidfVectorizer\n",
        "from sklearn.metrics.pairwise import cosine_similarity\n",
        "from sklearn.model_selection import train_test_split"
      ],
      "metadata": {
        "id": "1zTa40yRV4QQ"
      },
      "execution_count": 56,
      "outputs": []
    },
    {
      "cell_type": "markdown",
      "source": [
        "# Load Data\n",
        "* Crawling data dari github\n",
        "* Dataset akan dimuat ke dalam variabel 'df' sebagai Pandas DataFrame."
      ],
      "metadata": {
        "id": "uoDYfFLwXHHb"
      }
    },
    {
      "cell_type": "code",
      "execution_count": 57,
      "metadata": {
        "id": "ey_qXbgSV0rY"
      },
      "outputs": [],
      "source": [
        "urls = [\n",
        "    'https://raw.githubusercontent.com/Rahmathidayat4299/dataset-movie-recomendation/master/Action.csv',\n",
        "    'https://raw.githubusercontent.com/Rahmathidayat4299/dataset-movie-recomendation/master/Adventure.csv',\n",
        "    'https://raw.githubusercontent.com/Rahmathidayat4299/dataset-movie-recomendation/master/Animation.csv',\n",
        "    'https://raw.githubusercontent.com/Rahmathidayat4299/dataset-movie-recomendation/master/Comedy.csv',\n",
        "    'https://raw.githubusercontent.com/Rahmathidayat4299/dataset-movie-recomendation/master/Crime.csv',\n",
        "    'https://raw.githubusercontent.com/Rahmathidayat4299/dataset-movie-recomendation/master/Drama.csv',\n",
        "    'https://raw.githubusercontent.com/Rahmathidayat4299/dataset-movie-recomendation/master/Fantasy.csv',\n",
        "    'https://raw.githubusercontent.com/Rahmathidayat4299/dataset-movie-recomendation/master/Horror.csv',\n",
        "    'https://raw.githubusercontent.com/Rahmathidayat4299/dataset-movie-recomendation/master/Mystery.csv',\n",
        "    'https://raw.githubusercontent.com/Rahmathidayat4299/dataset-movie-recomendation/master/Music.csv',\n",
        "    'https://raw.githubusercontent.com/Rahmathidayat4299/dataset-movie-recomendation/master/Romance.csv',\n",
        "    'https://raw.githubusercontent.com/Rahmathidayat4299/dataset-movie-recomendation/master/Sci-Fi.csv',\n",
        "    'https://raw.githubusercontent.com/Rahmathidayat4299/dataset-movie-recomendation/master/Thriller.csv',\n",
        "    'https://raw.githubusercontent.com/Rahmathidayat4299/dataset-movie-recomendation/master/War.csv'\n",
        "]"
      ]
    },
    {
      "cell_type": "code",
      "source": [
        "# Muat semua dataset dan gabungkan menjadi satu\n",
        "dataframes = [pd.read_csv(url) for url in urls]\n",
        "datafilm = pd.concat(dataframes, ignore_index=True)"
      ],
      "metadata": {
        "id": "9NPKatVbXfrV"
      },
      "execution_count": 58,
      "outputs": []
    },
    {
      "cell_type": "code",
      "source": [
        "# Cek hasil gabungan\n",
        "print(datafilm.head())"
      ],
      "metadata": {
        "colab": {
          "base_uri": "https://localhost:8080/"
        },
        "id": "Z8DByr11Xj_Z",
        "outputId": "ec022363-18c3-48a8-e7cb-2188d4a84909"
      },
      "execution_count": 59,
      "outputs": [
        {
          "output_type": "stream",
          "name": "stdout",
          "text": [
            "                                                name  year movie_rated  \\\n",
            "0                                    The Dark Knight  2008       PG-13   \n",
            "1                                          Inception  2010       PG-13   \n",
            "2                                         The Matrix  1999           R   \n",
            "3  The Lord of the Rings: The Fellowship of the Ring  2001       PG-13   \n",
            "4                              The Dark Knight Rises  2012       PG-13   \n",
            "\n",
            "  run_length                       genres            release_date  rating  \\\n",
            "0   2h 32min       Action; Crime; Drama;       18 July 2008 (USA)     9.0   \n",
            "1   2h 28min  Action; Adventure; Sci-Fi;       16 July 2010 (USA)     8.8   \n",
            "2   2h 16min             Action; Sci-Fi;      31 March 1999 (USA)     8.7   \n",
            "3   2h 58min   Action; Adventure; Drama;   19 December 2001 (USA)     8.8   \n",
            "4   2h 44min          Action; Adventure;       20 July 2012 (USA)     8.4   \n",
            "\n",
            "   num_raters  num_reviews                                         review_url  \n",
            "0     2224522         6836  https://www.imdb.com/title/tt0468569/reviews/_...  \n",
            "1     1981675         3820  https://www.imdb.com/title/tt1375666/reviews/_...  \n",
            "2     1619761         4281  https://www.imdb.com/title/tt0133093/reviews/_...  \n",
            "3     1609165         5365  https://www.imdb.com/title/tt0120737/reviews/_...  \n",
            "4     1470329         2979  https://www.imdb.com/title/tt1345836/reviews/_...  \n"
          ]
        }
      ]
    },
    {
      "cell_type": "code",
      "source": [
        "# Simpan dataset gabungan ke file CSV\n",
        "datafilm.to_csv('movies.csv', index=False)"
      ],
      "metadata": {
        "id": "9OdGHvGIXm64"
      },
      "execution_count": 60,
      "outputs": []
    },
    {
      "cell_type": "code",
      "source": [
        "file_path = '/content/movies.csv'\n",
        "df = pd.read_csv(file_path)"
      ],
      "metadata": {
        "id": "bb28wCUwYj-M"
      },
      "execution_count": 61,
      "outputs": []
    },
    {
      "cell_type": "markdown",
      "source": [
        "# Data Understanding"
      ],
      "metadata": {
        "id": "sv7ZgHH_YDcr"
      }
    },
    {
      "cell_type": "markdown",
      "source": [
        "### Cek ukuran data dan tipe data: Untuk memahami dimensi dan karakteristik dasar dataset. Ukuran dataset (jumlah baris dan kolom) memberikan gambaran tentang jumlah data yang akan diproses. Tipe data (misalnya, numerik, kategorikal, teks) menentukan jenis analisis dan pemrosesan yang dapat dilakukan."
      ],
      "metadata": {
        "id": "NhCBL20NZcmA"
      }
    },
    {
      "cell_type": "code",
      "source": [
        "df.info()"
      ],
      "metadata": {
        "colab": {
          "base_uri": "https://localhost:8080/"
        },
        "id": "Zf-4C34QZ0v_",
        "outputId": "dffefd28-a145-4d78-f805-fe169c5cd58d"
      },
      "execution_count": 62,
      "outputs": [
        {
          "output_type": "stream",
          "name": "stdout",
          "text": [
            "<class 'pandas.core.frame.DataFrame'>\n",
            "RangeIndex: 1400 entries, 0 to 1399\n",
            "Data columns (total 10 columns):\n",
            " #   Column        Non-Null Count  Dtype  \n",
            "---  ------        --------------  -----  \n",
            " 0   name          1400 non-null   object \n",
            " 1   year          1400 non-null   int64  \n",
            " 2   movie_rated   1400 non-null   object \n",
            " 3   run_length    1400 non-null   object \n",
            " 4   genres        1400 non-null   object \n",
            " 5   release_date  1400 non-null   object \n",
            " 6   rating        1400 non-null   float64\n",
            " 7   num_raters    1400 non-null   int64  \n",
            " 8   num_reviews   1400 non-null   int64  \n",
            " 9   review_url    1400 non-null   object \n",
            "dtypes: float64(1), int64(3), object(6)\n",
            "memory usage: 109.5+ KB\n"
          ]
        }
      ]
    },
    {
      "cell_type": "markdown",
      "source": [
        "### Cek missing value: Untuk mengidentifikasi data yang hilang atau tidak terisi pada setiap kolom dalam dataset. Data yang hilang dapat mengganggu proses analisis dan pemodelan machine learning."
      ],
      "metadata": {
        "id": "2xb5hoLvZFKA"
      }
    },
    {
      "cell_type": "code",
      "source": [
        "print(\"\\nCek missing values:\")\n",
        "print(df.isnull().sum())"
      ],
      "metadata": {
        "colab": {
          "base_uri": "https://localhost:8080/"
        },
        "id": "VIs048uSY4S2",
        "outputId": "473d7075-93c5-4cd0-c674-a3cacac485b6"
      },
      "execution_count": 63,
      "outputs": [
        {
          "output_type": "stream",
          "name": "stdout",
          "text": [
            "\n",
            "Cek missing values:\n",
            "name            0\n",
            "year            0\n",
            "movie_rated     0\n",
            "run_length      0\n",
            "genres          0\n",
            "release_date    0\n",
            "rating          0\n",
            "num_raters      0\n",
            "num_reviews     0\n",
            "review_url      0\n",
            "dtype: int64\n"
          ]
        }
      ]
    },
    {
      "cell_type": "markdown",
      "source": [
        "### Cek duplikasi data: Untuk menemukan baris-baris data yang identik atau memiliki nilai yang sama di semua kolom. Data duplikat dapat menyebabkan bias dalam analisis dan pemodelan"
      ],
      "metadata": {
        "id": "iJHXlN8kZWza"
      }
    },
    {
      "cell_type": "code",
      "source": [
        "# Cek jumlah data duplikat\n",
        "print(\"Jumlah data duplikat:\", df.duplicated().sum())"
      ],
      "metadata": {
        "colab": {
          "base_uri": "https://localhost:8080/"
        },
        "id": "_N59zsFbZBtq",
        "outputId": "32a317e9-e84d-44ce-d078-f620d715d4e7"
      },
      "execution_count": 64,
      "outputs": [
        {
          "output_type": "stream",
          "name": "stdout",
          "text": [
            "Jumlah data duplikat: 264\n"
          ]
        }
      ]
    },
    {
      "cell_type": "markdown",
      "source": [
        "### Statistik Deskriptif: Untuk memahami karakteristik data dan mengidentifikasi pola serta tren"
      ],
      "metadata": {
        "id": "bGfHokYJadXI"
      }
    },
    {
      "cell_type": "code",
      "source": [
        "# Statistik deskriptif untuk data numerik\n",
        "df.describe()"
      ],
      "metadata": {
        "colab": {
          "base_uri": "https://localhost:8080/",
          "height": 300
        },
        "id": "0lHV7tmvZqx9",
        "outputId": "58c3b73d-50b3-46ac-c0a8-f84cb8a64281"
      },
      "execution_count": 65,
      "outputs": [
        {
          "output_type": "execute_result",
          "data": {
            "text/plain": [
              "              year       rating    num_raters   num_reviews\n",
              "count  1400.000000  1400.000000  1.400000e+03   1400.000000\n",
              "mean   2002.821429     7.482929  4.603176e+05   1113.824286\n",
              "std      14.250926     0.740565  3.313899e+05   1105.450385\n",
              "min    1915.000000     3.500000  1.929000e+04    102.000000\n",
              "25%    1999.000000     7.000000  2.261742e+05    491.750000\n",
              "50%    2006.000000     7.600000  3.902670e+05    844.000000\n",
              "75%    2012.000000     8.000000  5.974852e+05   1319.000000\n",
              "max    2020.000000     9.300000  2.258845e+06  10279.000000"
            ],
            "text/html": [
              "\n",
              "  <div id=\"df-452ee94e-9110-43d2-9916-72e56b163001\" class=\"colab-df-container\">\n",
              "    <div>\n",
              "<style scoped>\n",
              "    .dataframe tbody tr th:only-of-type {\n",
              "        vertical-align: middle;\n",
              "    }\n",
              "\n",
              "    .dataframe tbody tr th {\n",
              "        vertical-align: top;\n",
              "    }\n",
              "\n",
              "    .dataframe thead th {\n",
              "        text-align: right;\n",
              "    }\n",
              "</style>\n",
              "<table border=\"1\" class=\"dataframe\">\n",
              "  <thead>\n",
              "    <tr style=\"text-align: right;\">\n",
              "      <th></th>\n",
              "      <th>year</th>\n",
              "      <th>rating</th>\n",
              "      <th>num_raters</th>\n",
              "      <th>num_reviews</th>\n",
              "    </tr>\n",
              "  </thead>\n",
              "  <tbody>\n",
              "    <tr>\n",
              "      <th>count</th>\n",
              "      <td>1400.000000</td>\n",
              "      <td>1400.000000</td>\n",
              "      <td>1.400000e+03</td>\n",
              "      <td>1400.000000</td>\n",
              "    </tr>\n",
              "    <tr>\n",
              "      <th>mean</th>\n",
              "      <td>2002.821429</td>\n",
              "      <td>7.482929</td>\n",
              "      <td>4.603176e+05</td>\n",
              "      <td>1113.824286</td>\n",
              "    </tr>\n",
              "    <tr>\n",
              "      <th>std</th>\n",
              "      <td>14.250926</td>\n",
              "      <td>0.740565</td>\n",
              "      <td>3.313899e+05</td>\n",
              "      <td>1105.450385</td>\n",
              "    </tr>\n",
              "    <tr>\n",
              "      <th>min</th>\n",
              "      <td>1915.000000</td>\n",
              "      <td>3.500000</td>\n",
              "      <td>1.929000e+04</td>\n",
              "      <td>102.000000</td>\n",
              "    </tr>\n",
              "    <tr>\n",
              "      <th>25%</th>\n",
              "      <td>1999.000000</td>\n",
              "      <td>7.000000</td>\n",
              "      <td>2.261742e+05</td>\n",
              "      <td>491.750000</td>\n",
              "    </tr>\n",
              "    <tr>\n",
              "      <th>50%</th>\n",
              "      <td>2006.000000</td>\n",
              "      <td>7.600000</td>\n",
              "      <td>3.902670e+05</td>\n",
              "      <td>844.000000</td>\n",
              "    </tr>\n",
              "    <tr>\n",
              "      <th>75%</th>\n",
              "      <td>2012.000000</td>\n",
              "      <td>8.000000</td>\n",
              "      <td>5.974852e+05</td>\n",
              "      <td>1319.000000</td>\n",
              "    </tr>\n",
              "    <tr>\n",
              "      <th>max</th>\n",
              "      <td>2020.000000</td>\n",
              "      <td>9.300000</td>\n",
              "      <td>2.258845e+06</td>\n",
              "      <td>10279.000000</td>\n",
              "    </tr>\n",
              "  </tbody>\n",
              "</table>\n",
              "</div>\n",
              "    <div class=\"colab-df-buttons\">\n",
              "\n",
              "  <div class=\"colab-df-container\">\n",
              "    <button class=\"colab-df-convert\" onclick=\"convertToInteractive('df-452ee94e-9110-43d2-9916-72e56b163001')\"\n",
              "            title=\"Convert this dataframe to an interactive table.\"\n",
              "            style=\"display:none;\">\n",
              "\n",
              "  <svg xmlns=\"http://www.w3.org/2000/svg\" height=\"24px\" viewBox=\"0 -960 960 960\">\n",
              "    <path d=\"M120-120v-720h720v720H120Zm60-500h600v-160H180v160Zm220 220h160v-160H400v160Zm0 220h160v-160H400v160ZM180-400h160v-160H180v160Zm440 0h160v-160H620v160ZM180-180h160v-160H180v160Zm440 0h160v-160H620v160Z\"/>\n",
              "  </svg>\n",
              "    </button>\n",
              "\n",
              "  <style>\n",
              "    .colab-df-container {\n",
              "      display:flex;\n",
              "      gap: 12px;\n",
              "    }\n",
              "\n",
              "    .colab-df-convert {\n",
              "      background-color: #E8F0FE;\n",
              "      border: none;\n",
              "      border-radius: 50%;\n",
              "      cursor: pointer;\n",
              "      display: none;\n",
              "      fill: #1967D2;\n",
              "      height: 32px;\n",
              "      padding: 0 0 0 0;\n",
              "      width: 32px;\n",
              "    }\n",
              "\n",
              "    .colab-df-convert:hover {\n",
              "      background-color: #E2EBFA;\n",
              "      box-shadow: 0px 1px 2px rgba(60, 64, 67, 0.3), 0px 1px 3px 1px rgba(60, 64, 67, 0.15);\n",
              "      fill: #174EA6;\n",
              "    }\n",
              "\n",
              "    .colab-df-buttons div {\n",
              "      margin-bottom: 4px;\n",
              "    }\n",
              "\n",
              "    [theme=dark] .colab-df-convert {\n",
              "      background-color: #3B4455;\n",
              "      fill: #D2E3FC;\n",
              "    }\n",
              "\n",
              "    [theme=dark] .colab-df-convert:hover {\n",
              "      background-color: #434B5C;\n",
              "      box-shadow: 0px 1px 3px 1px rgba(0, 0, 0, 0.15);\n",
              "      filter: drop-shadow(0px 1px 2px rgba(0, 0, 0, 0.3));\n",
              "      fill: #FFFFFF;\n",
              "    }\n",
              "  </style>\n",
              "\n",
              "    <script>\n",
              "      const buttonEl =\n",
              "        document.querySelector('#df-452ee94e-9110-43d2-9916-72e56b163001 button.colab-df-convert');\n",
              "      buttonEl.style.display =\n",
              "        google.colab.kernel.accessAllowed ? 'block' : 'none';\n",
              "\n",
              "      async function convertToInteractive(key) {\n",
              "        const element = document.querySelector('#df-452ee94e-9110-43d2-9916-72e56b163001');\n",
              "        const dataTable =\n",
              "          await google.colab.kernel.invokeFunction('convertToInteractive',\n",
              "                                                    [key], {});\n",
              "        if (!dataTable) return;\n",
              "\n",
              "        const docLinkHtml = 'Like what you see? Visit the ' +\n",
              "          '<a target=\"_blank\" href=https://colab.research.google.com/notebooks/data_table.ipynb>data table notebook</a>'\n",
              "          + ' to learn more about interactive tables.';\n",
              "        element.innerHTML = '';\n",
              "        dataTable['output_type'] = 'display_data';\n",
              "        await google.colab.output.renderOutput(dataTable, element);\n",
              "        const docLink = document.createElement('div');\n",
              "        docLink.innerHTML = docLinkHtml;\n",
              "        element.appendChild(docLink);\n",
              "      }\n",
              "    </script>\n",
              "  </div>\n",
              "\n",
              "\n",
              "<div id=\"df-f3ad567f-45cb-4224-99a2-5df32b53414d\">\n",
              "  <button class=\"colab-df-quickchart\" onclick=\"quickchart('df-f3ad567f-45cb-4224-99a2-5df32b53414d')\"\n",
              "            title=\"Suggest charts\"\n",
              "            style=\"display:none;\">\n",
              "\n",
              "<svg xmlns=\"http://www.w3.org/2000/svg\" height=\"24px\"viewBox=\"0 0 24 24\"\n",
              "     width=\"24px\">\n",
              "    <g>\n",
              "        <path d=\"M19 3H5c-1.1 0-2 .9-2 2v14c0 1.1.9 2 2 2h14c1.1 0 2-.9 2-2V5c0-1.1-.9-2-2-2zM9 17H7v-7h2v7zm4 0h-2V7h2v10zm4 0h-2v-4h2v4z\"/>\n",
              "    </g>\n",
              "</svg>\n",
              "  </button>\n",
              "\n",
              "<style>\n",
              "  .colab-df-quickchart {\n",
              "      --bg-color: #E8F0FE;\n",
              "      --fill-color: #1967D2;\n",
              "      --hover-bg-color: #E2EBFA;\n",
              "      --hover-fill-color: #174EA6;\n",
              "      --disabled-fill-color: #AAA;\n",
              "      --disabled-bg-color: #DDD;\n",
              "  }\n",
              "\n",
              "  [theme=dark] .colab-df-quickchart {\n",
              "      --bg-color: #3B4455;\n",
              "      --fill-color: #D2E3FC;\n",
              "      --hover-bg-color: #434B5C;\n",
              "      --hover-fill-color: #FFFFFF;\n",
              "      --disabled-bg-color: #3B4455;\n",
              "      --disabled-fill-color: #666;\n",
              "  }\n",
              "\n",
              "  .colab-df-quickchart {\n",
              "    background-color: var(--bg-color);\n",
              "    border: none;\n",
              "    border-radius: 50%;\n",
              "    cursor: pointer;\n",
              "    display: none;\n",
              "    fill: var(--fill-color);\n",
              "    height: 32px;\n",
              "    padding: 0;\n",
              "    width: 32px;\n",
              "  }\n",
              "\n",
              "  .colab-df-quickchart:hover {\n",
              "    background-color: var(--hover-bg-color);\n",
              "    box-shadow: 0 1px 2px rgba(60, 64, 67, 0.3), 0 1px 3px 1px rgba(60, 64, 67, 0.15);\n",
              "    fill: var(--button-hover-fill-color);\n",
              "  }\n",
              "\n",
              "  .colab-df-quickchart-complete:disabled,\n",
              "  .colab-df-quickchart-complete:disabled:hover {\n",
              "    background-color: var(--disabled-bg-color);\n",
              "    fill: var(--disabled-fill-color);\n",
              "    box-shadow: none;\n",
              "  }\n",
              "\n",
              "  .colab-df-spinner {\n",
              "    border: 2px solid var(--fill-color);\n",
              "    border-color: transparent;\n",
              "    border-bottom-color: var(--fill-color);\n",
              "    animation:\n",
              "      spin 1s steps(1) infinite;\n",
              "  }\n",
              "\n",
              "  @keyframes spin {\n",
              "    0% {\n",
              "      border-color: transparent;\n",
              "      border-bottom-color: var(--fill-color);\n",
              "      border-left-color: var(--fill-color);\n",
              "    }\n",
              "    20% {\n",
              "      border-color: transparent;\n",
              "      border-left-color: var(--fill-color);\n",
              "      border-top-color: var(--fill-color);\n",
              "    }\n",
              "    30% {\n",
              "      border-color: transparent;\n",
              "      border-left-color: var(--fill-color);\n",
              "      border-top-color: var(--fill-color);\n",
              "      border-right-color: var(--fill-color);\n",
              "    }\n",
              "    40% {\n",
              "      border-color: transparent;\n",
              "      border-right-color: var(--fill-color);\n",
              "      border-top-color: var(--fill-color);\n",
              "    }\n",
              "    60% {\n",
              "      border-color: transparent;\n",
              "      border-right-color: var(--fill-color);\n",
              "    }\n",
              "    80% {\n",
              "      border-color: transparent;\n",
              "      border-right-color: var(--fill-color);\n",
              "      border-bottom-color: var(--fill-color);\n",
              "    }\n",
              "    90% {\n",
              "      border-color: transparent;\n",
              "      border-bottom-color: var(--fill-color);\n",
              "    }\n",
              "  }\n",
              "</style>\n",
              "\n",
              "  <script>\n",
              "    async function quickchart(key) {\n",
              "      const quickchartButtonEl =\n",
              "        document.querySelector('#' + key + ' button');\n",
              "      quickchartButtonEl.disabled = true;  // To prevent multiple clicks.\n",
              "      quickchartButtonEl.classList.add('colab-df-spinner');\n",
              "      try {\n",
              "        const charts = await google.colab.kernel.invokeFunction(\n",
              "            'suggestCharts', [key], {});\n",
              "      } catch (error) {\n",
              "        console.error('Error during call to suggestCharts:', error);\n",
              "      }\n",
              "      quickchartButtonEl.classList.remove('colab-df-spinner');\n",
              "      quickchartButtonEl.classList.add('colab-df-quickchart-complete');\n",
              "    }\n",
              "    (() => {\n",
              "      let quickchartButtonEl =\n",
              "        document.querySelector('#df-f3ad567f-45cb-4224-99a2-5df32b53414d button');\n",
              "      quickchartButtonEl.style.display =\n",
              "        google.colab.kernel.accessAllowed ? 'block' : 'none';\n",
              "    })();\n",
              "  </script>\n",
              "</div>\n",
              "\n",
              "    </div>\n",
              "  </div>\n"
            ],
            "application/vnd.google.colaboratory.intrinsic+json": {
              "type": "dataframe",
              "summary": "{\n  \"name\": \"df\",\n  \"rows\": 8,\n  \"fields\": [\n    {\n      \"column\": \"year\",\n      \"properties\": {\n        \"dtype\": \"number\",\n        \"std\": 701.6094570067585,\n        \"min\": 14.250925935653667,\n        \"max\": 2020.0,\n        \"num_unique_values\": 8,\n        \"samples\": [\n          2002.8214285714287,\n          2006.0,\n          1400.0\n        ],\n        \"semantic_type\": \"\",\n        \"description\": \"\"\n      }\n    },\n    {\n      \"column\": \"rating\",\n      \"properties\": {\n        \"dtype\": \"number\",\n        \"std\": 492.77928178250886,\n        \"min\": 0.740564663366392,\n        \"max\": 1400.0,\n        \"num_unique_values\": 8,\n        \"samples\": [\n          7.482928571428571,\n          7.6,\n          1400.0\n        ],\n        \"semantic_type\": \"\",\n        \"description\": \"\"\n      }\n    },\n    {\n      \"column\": \"num_raters\",\n      \"properties\": {\n        \"dtype\": \"number\",\n        \"std\": 726005.1096576772,\n        \"min\": 1400.0,\n        \"max\": 2258845.0,\n        \"num_unique_values\": 8,\n        \"samples\": [\n          460317.58928571426,\n          390267.0,\n          1400.0\n        ],\n        \"semantic_type\": \"\",\n        \"description\": \"\"\n      }\n    },\n    {\n      \"column\": \"num_reviews\",\n      \"properties\": {\n        \"dtype\": \"number\",\n        \"std\": 3340.467339156187,\n        \"min\": 102.0,\n        \"max\": 10279.0,\n        \"num_unique_values\": 8,\n        \"samples\": [\n          1113.8242857142857,\n          844.0,\n          1400.0\n        ],\n        \"semantic_type\": \"\",\n        \"description\": \"\"\n      }\n    }\n  ]\n}"
            }
          },
          "metadata": {},
          "execution_count": 65
        }
      ]
    },
    {
      "cell_type": "code",
      "source": [
        "# Statistik deskriptif untuk data kategorikal\n",
        "for column in df.select_dtypes(include=['object']).columns:\n",
        "    print(f\"\\nStatistik Deskriptif untuk kolom '{column}':\")\n",
        "    print(df[column].value_counts())"
      ],
      "metadata": {
        "colab": {
          "base_uri": "https://localhost:8080/"
        },
        "id": "FFq1PWRJaTEb",
        "outputId": "8ca7cf54-b280-4ce1-d0b2-ee279956fa5b"
      },
      "execution_count": 66,
      "outputs": [
        {
          "output_type": "stream",
          "name": "stdout",
          "text": [
            "\n",
            "Statistik Deskriptif untuk kolom 'name':\n",
            "name\n",
            "The Lion King             4\n",
            "Prisoners                 3\n",
            "Now You See Me            3\n",
            "L.A. Confidential         3\n",
            "The Hateful Eight         3\n",
            "                         ..\n",
            "The Ottoman Lieutenant    1\n",
            "The Caine Mutiny          1\n",
            "Cross of Iron             1\n",
            "Gettysburg                1\n",
            "Lifeboat                  1\n",
            "Name: count, Length: 912, dtype: int64\n",
            "\n",
            "Statistik Deskriptif untuk kolom 'movie_rated':\n",
            "movie_rated\n",
            "R            602\n",
            "PG-13        510\n",
            "PG           186\n",
            "G             52\n",
            "Not Rated     25\n",
            "Approved       9\n",
            "Passed         6\n",
            "TV-MA          3\n",
            "GP             2\n",
            "NC-17          1\n",
            "Null           1\n",
            "M/PG           1\n",
            "TV-14          1\n",
            "TV-PG          1\n",
            "Name: count, dtype: int64\n",
            "\n",
            "Statistik Deskriptif untuk kolom 'run_length':\n",
            "run_length\n",
            "1h 56min    35\n",
            "1h 55min    34\n",
            "2h 4min     34\n",
            "1h 46min    32\n",
            "1h 53min    31\n",
            "            ..\n",
            "1h 20min     1\n",
            "3h 3min      1\n",
            "3h 17min     1\n",
            "1h 9min      1\n",
            "4h 31min     1\n",
            "Name: count, Length: 113, dtype: int64\n",
            "\n",
            "Statistik Deskriptif untuk kolom 'genres':\n",
            "genres\n",
            "Action; Adventure; Sci-Fi;        115\n",
            "Comedy;                            85\n",
            "Comedy; Romance;                   70\n",
            "Action; Adventure; Fantasy;        66\n",
            "Animation; Adventure; Comedy;      64\n",
            "                                 ... \n",
            "Adventure; History; War;            1\n",
            "Crime; Drama; War;                  1\n",
            "Drama; War; Western;                1\n",
            "Drama; Sport; War;                  1\n",
            "Thriller; War;                      1\n",
            "Name: count, Length: 166, dtype: int64\n",
            "\n",
            "Statistik Deskriptif untuk kolom 'release_date':\n",
            "release_date\n",
            "13 February 2015 (USA)    6\n",
            "25 June 1982 (USA)        6\n",
            "21 November 2007 (USA)    6\n",
            "8 November 2013 (USA)     5\n",
            "25 December 2008 (USA)    5\n",
            "                         ..\n",
            "18 August 1989 (USA)      1\n",
            "5 December 1986 (USA)     1\n",
            "24 May 2001 (Germany)     1\n",
            "18 July 1975 (Canada)     1\n",
            "17 June 1964 (USA)        1\n",
            "Name: count, Length: 797, dtype: int64\n",
            "\n",
            "Statistik Deskriptif untuk kolom 'review_url':\n",
            "review_url\n",
            "https://www.imdb.com/title/tt0468569/reviews/_ajax?ref_=undefined&paginationKey=    3\n",
            "https://www.imdb.com/title/tt1375666/reviews/_ajax?ref_=undefined&paginationKey=    3\n",
            "https://www.imdb.com/title/tt0120737/reviews/_ajax?ref_=undefined&paginationKey=    3\n",
            "https://www.imdb.com/title/tt0800369/reviews/_ajax?ref_=undefined&paginationKey=    3\n",
            "https://www.imdb.com/title/tt1300854/reviews/_ajax?ref_=undefined&paginationKey=    3\n",
            "                                                                                   ..\n",
            "https://www.imdb.com/title/tt9777644/reviews/_ajax?ref_=undefined&paginationKey=    1\n",
            "https://www.imdb.com/title/tt4943322/reviews/_ajax?ref_=undefined&paginationKey=    1\n",
            "https://www.imdb.com/title/tt0046816/reviews/_ajax?ref_=undefined&paginationKey=    1\n",
            "https://www.imdb.com/title/tt0074695/reviews/_ajax?ref_=undefined&paginationKey=    1\n",
            "https://www.imdb.com/title/tt0107007/reviews/_ajax?ref_=undefined&paginationKey=    1\n",
            "Name: count, Length: 917, dtype: int64\n"
          ]
        }
      ]
    },
    {
      "cell_type": "markdown",
      "source": [
        "### Cek Outlier\n",
        "* Boxplot: Titik-titik di luar whisker boxplot menunjukkan potensi outlier. Outlier adalah data yang nilainya jauh berbeda dari data lainnya."
      ],
      "metadata": {
        "id": "5Zfj59FLbwas"
      }
    },
    {
      "cell_type": "code",
      "source": [
        "import seaborn as sns\n",
        "import matplotlib.pyplot as plt\n",
        "\n",
        "# Pilih kolom numerik yang ingin divisualisasikan\n",
        "numerical_cols = ['year', 'rating', 'num_raters', 'num_reviews']\n",
        "\n",
        "# Buat boxplot\n",
        "plt.figure(figsize=(12, 6))\n",
        "sns.boxplot(data=df[numerical_cols])\n",
        "plt.title('Boxplot untuk Deteksi Outlier')\n",
        "plt.xticks(rotation=45)\n",
        "plt.show()"
      ],
      "metadata": {
        "colab": {
          "base_uri": "https://localhost:8080/",
          "height": 605
        },
        "id": "t9CYmRMybZim",
        "outputId": "1a9fb5bf-5a2a-40b9-a806-21acdb5ba20d"
      },
      "execution_count": 67,
      "outputs": [
        {
          "output_type": "display_data",
          "data": {
            "text/plain": [
              "<Figure size 1200x600 with 1 Axes>"
            ],
            "image/png": "[encoded data removed]"
          },
          "metadata": {}
        }
      ]
    },
    {
      "cell_type": "code",
      "source": [
        "import seaborn as sns\n",
        "import matplotlib.pyplot as plt\n",
        "\n",
        "# Pilih kolom numerik\n",
        "numerical_cols = df.select_dtypes(include=np.number).columns.tolist()\n",
        "\n",
        "# Menghitung matriks korelasi hanya untuk kolom numerik\n",
        "correlation_matrix = df[numerical_cols].corr()\n",
        "\n",
        "# Membuat heatmap\n",
        "plt.figure(figsize=(10, 8))\n",
        "sns.heatmap(correlation_matrix, annot=True, cmap='coolwarm', fmt=\".2f\")\n",
        "plt.title('Korelasi Heatmap (Kolom Numerik)')\n",
        "plt.show()"
      ],
      "metadata": {
        "colab": {
          "base_uri": "https://localhost:8080/",
          "height": 699
        },
        "id": "_fiW3PDSbj20",
        "outputId": "0e64eea5-ebe5-4843-f8d5-11a91da59227"
      },
      "execution_count": 68,
      "outputs": [
        {
          "output_type": "display_data",
          "data": {
            "text/plain": [
              "<Figure size 1000x800 with 2 Axes>"
            ],
            "image/png": "[encoded data removed]"
          },
          "metadata": {}
        }
      ]
    },
    {
      "cell_type": "markdown",
      "source": [
        "# Data Preparation"
      ],
      "metadata": {
        "id": "K-Ilx33NYV4u"
      }
    },
    {
      "cell_type": "markdown",
      "source": [
        "* Menghapus duplikasi data"
      ],
      "metadata": {
        "id": "BNjV5acpcJ1v"
      }
    },
    {
      "cell_type": "code",
      "source": [
        "# Hapus data duplikat\n",
        "df.drop_duplicates(inplace=True)\n",
        "\n",
        "# Cek kembali jumlah data duplikat setelah dihapus\n",
        "print(\"Jumlah data duplikat setelah dihapus:\", df.duplicated().sum())"
      ],
      "metadata": {
        "colab": {
          "base_uri": "https://localhost:8080/"
        },
        "id": "8PLs9AYgYZ9b",
        "outputId": "753c3955-7aea-4975-d1b8-a91a4a1c23e7"
      },
      "execution_count": 69,
      "outputs": [
        {
          "output_type": "stream",
          "name": "stdout",
          "text": [
            "Jumlah data duplikat setelah dihapus: 0\n"
          ]
        }
      ]
    },
    {
      "cell_type": "markdown",
      "source": [
        "* Drop kolom yag tidak relevan"
      ],
      "metadata": {
        "id": "_x9cWKToc5kq"
      }
    },
    {
      "cell_type": "code",
      "source": [
        "# Asumsikan DataFrame 'df' sudah ada\n",
        "print(\"Sebelum dihapus:\", df.columns)  # Menampilkan kolom sebelum dihapus\n",
        "\n",
        "# Drop kolom\n",
        "df = df.drop(['release_date', 'review_url'], axis=1)\n",
        "\n",
        "print(\"\\nSetelah dihapus:\", df.columns) # Menampilkan kolom setelah dihapus"
      ],
      "metadata": {
        "colab": {
          "base_uri": "https://localhost:8080/"
        },
        "id": "u-cvTofOc0p2",
        "outputId": "5c732a89-b585-4f61-cd89-b38da49d9d35"
      },
      "execution_count": 70,
      "outputs": [
        {
          "output_type": "stream",
          "name": "stdout",
          "text": [
            "Sebelum dihapus: Index(['name', 'year', 'movie_rated', 'run_length', 'genres', 'release_date',\n",
            "       'rating', 'num_raters', 'num_reviews', 'review_url'],\n",
            "      dtype='object')\n",
            "\n",
            "Setelah dihapus: Index(['name', 'year', 'movie_rated', 'run_length', 'genres', 'rating',\n",
            "       'num_raters', 'num_reviews'],\n",
            "      dtype='object')\n"
          ]
        }
      ]
    },
    {
      "cell_type": "markdown",
      "source": [
        "* Encoding kolom genres"
      ],
      "metadata": {
        "id": "zS8YWz9WzNvX"
      }
    },
    {
      "cell_type": "code",
      "source": [
        "# # Mengambil genre pertama dari kolom \"Genre\"\n",
        "# df['genres'] = df['genres'].apply(lambda x: x.split(';')[0] if isinstance(x, str) else x)"
      ],
      "metadata": {
        "id": "8-FLTWNNdMP2"
      },
      "execution_count": 71,
      "outputs": []
    },
    {
      "cell_type": "code",
      "source": [
        "import pandas as pd\n",
        "from sklearn.preprocessing import OneHotEncoder\n",
        "\n",
        "# Inisialisasi OneHotEncoder\n",
        "encoder = OneHotEncoder(sparse_output=False, handle_unknown='ignore') # sparse=False for array output\n",
        "\n",
        "# Fit dan transform data\n",
        "encoded_data = encoder.fit_transform(df[['genres']])\n",
        "\n",
        "# Buat DataFrame dari data yang sudah di-encode\n",
        "encoded_df = pd.DataFrame(encoded_data, columns=encoder.get_feature_names_out(['genres']))\n",
        "\n",
        "# Gabungkan DataFrame yang sudah di-encode dengan DataFrame asli\n",
        "df = pd.concat([df, encoded_df], axis=1)"
      ],
      "metadata": {
        "id": "kWalNeAUeO9D"
      },
      "execution_count": 72,
      "outputs": []
    },
    {
      "cell_type": "markdown",
      "source": [
        "* Features Extraction dengan TF-IDF"
      ],
      "metadata": {
        "id": "oMpUz6LYx7--"
      }
    },
    {
      "cell_type": "code",
      "source": [
        "# Representasi konten: title + genre + rating (dalam string)\n",
        "df['features'] = (\n",
        "    df['name'].astype(str) + ' ' +\n",
        "    df['genres'].astype(str) + ' ' +\n",
        "    df['rating'].astype(str)\n",
        ")\n",
        "\n",
        "# TF-IDF\n",
        "tfidf = TfidfVectorizer(stop_words='english')\n",
        "tfidf_matrix = tfidf.fit_transform(df['features'])\n"
      ],
      "metadata": {
        "id": "yJ1C3UXKepw3"
      },
      "execution_count": 73,
      "outputs": []
    },
    {
      "cell_type": "code",
      "source": [
        "# Menampilkan 5 baris pertama data\n",
        "print(df.head())"
      ],
      "metadata": {
        "colab": {
          "base_uri": "https://localhost:8080/"
        },
        "id": "YCWxJfzKdVsg",
        "outputId": "8b51e365-1d4e-49de-adb6-fbf0e1d20535"
      },
      "execution_count": 74,
      "outputs": [
        {
          "output_type": "stream",
          "name": "stdout",
          "text": [
            "                                                name    year movie_rated  \\\n",
            "0                                    The Dark Knight  2008.0       PG-13   \n",
            "1                                          Inception  2010.0       PG-13   \n",
            "2                                         The Matrix  1999.0           R   \n",
            "3  The Lord of the Rings: The Fellowship of the Ring  2001.0       PG-13   \n",
            "4                              The Dark Knight Rises  2012.0       PG-13   \n",
            "\n",
            "  run_length                       genres  rating  num_raters  num_reviews  \\\n",
            "0   2h 32min       Action; Crime; Drama;      9.0   2224522.0       6836.0   \n",
            "1   2h 28min  Action; Adventure; Sci-Fi;      8.8   1981675.0       3820.0   \n",
            "2   2h 16min             Action; Sci-Fi;      8.7   1619761.0       4281.0   \n",
            "3   2h 58min   Action; Adventure; Drama;      8.8   1609165.0       5365.0   \n",
            "4   2h 44min          Action; Adventure;      8.4   1470329.0       2979.0   \n",
            "\n",
            "   genres_Action; Adventure;   genres_Action; Adventure; Comedy;   ...  \\\n",
            "0                         0.0                                 0.0  ...   \n",
            "1                         0.0                                 0.0  ...   \n",
            "2                         0.0                                 0.0  ...   \n",
            "3                         0.0                                 0.0  ...   \n",
            "4                         1.0                                 0.0  ...   \n",
            "\n",
            "   genres_Horror; Sci-Fi; Thriller;   genres_Horror; Thriller;   \\\n",
            "0                                0.0                        0.0   \n",
            "1                                0.0                        0.0   \n",
            "2                                0.0                        0.0   \n",
            "3                                0.0                        0.0   \n",
            "4                                0.0                        0.0   \n",
            "\n",
            "   genres_Mystery; Romance; Thriller;   genres_Mystery; Sci-Fi; Thriller;   \\\n",
            "0                                  0.0                                 0.0   \n",
            "1                                  0.0                                 0.0   \n",
            "2                                  0.0                                 0.0   \n",
            "3                                  0.0                                 0.0   \n",
            "4                                  0.0                                 0.0   \n",
            "\n",
            "   genres_Mystery; Thriller;   genres_Romance;   genres_Sci-Fi;   \\\n",
            "0                         0.0               0.0              0.0   \n",
            "1                         0.0               0.0              0.0   \n",
            "2                         0.0               0.0              0.0   \n",
            "3                         0.0               0.0              0.0   \n",
            "4                         0.0               0.0              0.0   \n",
            "\n",
            "   genres_Sci-Fi; Thriller;   genres_Thriller; War;   \\\n",
            "0                        0.0                     0.0   \n",
            "1                        0.0                     0.0   \n",
            "2                        0.0                     0.0   \n",
            "3                        0.0                     0.0   \n",
            "4                        0.0                     0.0   \n",
            "\n",
            "                                            features  \n",
            "0         The Dark Knight Action; Crime; Drama;  9.0  \n",
            "1          Inception Action; Adventure; Sci-Fi;  8.8  \n",
            "2                    The Matrix Action; Sci-Fi;  8.7  \n",
            "3  The Lord of the Rings: The Fellowship of the R...  \n",
            "4      The Dark Knight Rises Action; Adventure;  8.4  \n",
            "\n",
            "[5 rows x 175 columns]\n"
          ]
        }
      ]
    },
    {
      "cell_type": "code",
      "source": [
        "df = df[df['name'].notnull()]  # Hilangkan baris dengan name kosong\n",
        "df['name'] = df['name'].astype(str)  # Pastikan semua 'name' jadi string"
      ],
      "metadata": {
        "id": "zUGpR_Fv2hAN"
      },
      "execution_count": 75,
      "outputs": []
    },
    {
      "cell_type": "code",
      "source": [
        "df.info()"
      ],
      "metadata": {
        "colab": {
          "base_uri": "https://localhost:8080/"
        },
        "id": "YVPdhNsU3sjW",
        "outputId": "a668eec2-12d5-4391-b9e5-a9f1f157e651"
      },
      "execution_count": 76,
      "outputs": [
        {
          "output_type": "stream",
          "name": "stdout",
          "text": [
            "<class 'pandas.core.frame.DataFrame'>\n",
            "Index: 1136 entries, 0 to 1399\n",
            "Columns: 175 entries, name to features\n",
            "dtypes: float64(170), object(5)\n",
            "memory usage: 1.5+ MB\n"
          ]
        }
      ]
    },
    {
      "cell_type": "markdown",
      "source": [
        "# Bangun Model"
      ],
      "metadata": {
        "id": "iRpPP2Nox5dI"
      }
    },
    {
      "cell_type": "markdown",
      "source": [
        "* Bangun Model: Content-Based Filtering"
      ],
      "metadata": {
        "id": "6xfnN7HfzZYE"
      }
    },
    {
      "cell_type": "code",
      "source": [
        "# Cosine similarity\n",
        "cosine_sim = cosine_similarity(tfidf_matrix, tfidf_matrix)"
      ],
      "metadata": {
        "id": "lz0msEUJyFTU"
      },
      "execution_count": 77,
      "outputs": []
    },
    {
      "cell_type": "code",
      "source": [
        "# Mapping judul\n",
        "indices = pd.Series(df.index, index=df['name'].str.lower())"
      ],
      "metadata": {
        "id": "XERUrdacyHLU"
      },
      "execution_count": 78,
      "outputs": []
    },
    {
      "cell_type": "code",
      "source": [
        "print(\"cosine_sim_matrix shape:\", cosine_sim.shape)\n",
        "print(\"df shape:\", df.shape)"
      ],
      "metadata": {
        "colab": {
          "base_uri": "https://localhost:8080/"
        },
        "id": "Kq4_LvAk1ovt",
        "outputId": "483751e1-bff6-4564-b6ff-8aa5451542f9"
      },
      "execution_count": 79,
      "outputs": [
        {
          "output_type": "stream",
          "name": "stdout",
          "text": [
            "cosine_sim_matrix shape: (1362, 1362)\n",
            "df shape: (1136, 175)\n"
          ]
        }
      ]
    },
    {
      "cell_type": "markdown",
      "source": [
        "# Evaluasi model"
      ],
      "metadata": {
        "id": "0ydPLD3XvHTB"
      }
    },
    {
      "cell_type": "code",
      "source": [
        "def get_recommendations(title, cosine_sim_matrix, indices, top_n=10):\n",
        "    title = title.lower()\n",
        "    try:\n",
        "        idx = indices[title]\n",
        "        if isinstance(idx, (np.ndarray, pd.Series)):\n",
        "            idx = int(idx[0]) if len(idx) > 0 else None\n",
        "        else:\n",
        "            idx = int(idx)\n",
        "        if idx is None or idx >= cosine_sim_matrix.shape[0]:\n",
        "            return []\n",
        "    except KeyError:\n",
        "        return []\n",
        "\n",
        "    sim_scores = list(enumerate(cosine_sim_matrix[idx]))\n",
        "    sim_scores = sorted(sim_scores, key=lambda x: x[1], reverse=True)\n",
        "    sim_scores = sim_scores[1:top_n + 1]\n",
        "    movie_indices = [i[0] for i in sim_scores if i[0] < len(df)]\n",
        "    return df['name'].iloc[movie_indices].tolist()\n",
        "\n",
        "# --- EVALUASI MODEL ---\n",
        "\n",
        "# Split data\n",
        "train_data, test_data = train_test_split(df, test_size=0.2, random_state=42)\n",
        "test_data['original_index'] = test_data.index\n",
        "test_data = test_data.reset_index(drop=True)\n",
        "\n",
        "cosine_sim_scores = []\n",
        "\n",
        "def get_item_features(item_name, df):\n",
        "    match = df[df['name'] == item_name]\n",
        "    if not match.empty:\n",
        "        row = match.iloc[0]\n",
        "        return f\"{row['name']} {row['genres']} {row['rating']}\"\n",
        "    return None\n",
        "\n",
        "for index, row in test_data.iterrows():\n",
        "    actual_item = row['name']\n",
        "    recommended_items = get_recommendations(actual_item, cosine_sim, indices, top_n=10)\n",
        "\n",
        "    if recommended_items:\n",
        "        actual_features = tfidf.transform([f\"{row['name']} {row['genres']} {row['rating']}\"])\n",
        "\n",
        "        recommended_features_list = [\n",
        "            get_item_features(item, df) for item in recommended_items\n",
        "        ]\n",
        "        recommended_features_list = [f for f in recommended_features_list if f]\n",
        "\n",
        "        if recommended_features_list:\n",
        "            recommended_features = tfidf.transform(recommended_features_list)\n",
        "            sim_scores = cosine_similarity(actual_features, recommended_features)\n",
        "            avg_sim_score = np.mean(sim_scores)\n",
        "            cosine_sim_scores.append(avg_sim_score)\n",
        "\n",
        "# Hitung rata-rata skor similarity\n",
        "if cosine_sim_scores:\n",
        "    average_cosine_sim_score = np.mean(cosine_sim_scores)\n",
        "    print(f\"Average Cosine Similarity Score: {average_cosine_sim_score:.4f}\")\n",
        "else:\n",
        "    print(\"No valid similarity scores could be computed.\")"
      ],
      "metadata": {
        "colab": {
          "base_uri": "https://localhost:8080/"
        },
        "id": "-C0uhVNTvI42",
        "outputId": "8fd87eb3-b6d4-4bfd-f790-ee85e0a30e8c"
      },
      "execution_count": 80,
      "outputs": [
        {
          "output_type": "stream",
          "name": "stderr",
          "text": [
            "<ipython-input-80-6bad2b0b0fac>:6: FutureWarning: Series.__getitem__ treating keys as positions is deprecated. In a future version, integer keys will always be treated as labels (consistent with DataFrame behavior). To access a value by position, use `ser.iloc[pos]`\n",
            "  idx = int(idx[0]) if len(idx) > 0 else None\n"
          ]
        },
        {
          "output_type": "stream",
          "name": "stdout",
          "text": [
            "Average Cosine Similarity Score: 0.1303\n"
          ]
        }
      ]
    },
    {
      "cell_type": "markdown",
      "source": [
        "# Inferensi Model"
      ],
      "metadata": {
        "id": "EditIWNxyXKA"
      }
    },
    {
      "cell_type": "code",
      "source": [
        "def recommend_movies(title, top_n=10):\n",
        "    title = title.lower()\n",
        "    matches = indices[indices.index == title]\n",
        "\n",
        "    if matches.empty:\n",
        "        return f\"Film '{title}' tidak ditemukan.\"\n",
        "\n",
        "    idx = matches.iloc[0]  # ambil hanya satu index pertama\n",
        "    sim_scores = list(enumerate(cosine_sim[idx]))\n",
        "    sim_scores = sorted(sim_scores, key=lambda x: x[1], reverse=True)\n",
        "    sim_scores = sim_scores[1:top_n+1]\n",
        "    movie_indices = [i[0] for i in sim_scores]\n",
        "\n",
        "    return df[['name', 'genres', 'rating']].iloc[movie_indices]\n"
      ],
      "metadata": {
        "id": "NZoao5ttyIeD"
      },
      "execution_count": 81,
      "outputs": []
    },
    {
      "cell_type": "code",
      "source": [
        "# Contoh penggunaan\n",
        "print(\"Rekomendasi untuk film seperti 'Avatar':\")\n",
        "print(recommend_movies(\"Avatar\"))"
      ],
      "metadata": {
        "colab": {
          "base_uri": "https://localhost:8080/"
        },
        "id": "7--vyuyyyWaZ",
        "outputId": "6650f3e9-7efb-4453-a41b-084709a3f74e"
      },
      "execution_count": 82,
      "outputs": [
        {
          "output_type": "stream",
          "name": "stdout",
          "text": [
            "Rekomendasi untuk film seperti 'Avatar':\n",
            "                  name                        genres  rating\n",
            "30                Thor  Action; Adventure; Fantasy;      7.0\n",
            "659     Fantastic Four  Action; Adventure; Fantasy;      5.7\n",
            "642          The Mummy  Action; Adventure; Fantasy;      7.0\n",
            "655            Aquaman  Action; Adventure; Fantasy;      7.0\n",
            "688           Warcraft  Action; Adventure; Fantasy;      6.8\n",
            "698            Aladdin          Adventure; Fantasy;      7.0\n",
            "274         Your Name.   Animation; Drama; Fantasy;      8.4\n",
            "693       Ender's Game  Action; Adventure; Fantasy;      6.6\n",
            "665  The Mummy Returns  Action; Adventure; Fantasy;      6.3\n",
            "80        Wonder Woman  Action; Adventure; Fantasy;      7.4\n"
          ]
        }
      ]
    }
  ]
}